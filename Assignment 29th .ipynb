{
 "cells": [
  {
   "cell_type": "markdown",
   "id": "3ac3054f-dec3-4c00-926c-6aadf70b53c8",
   "metadata": {},
   "source": [
    "1.Who developed Python Programming Language? "
   ]
  },
  {
   "cell_type": "markdown",
   "id": "b7ac083a-e89f-4517-8855-9e7f4a9a9e2e",
   "metadata": {},
   "source": [
    "Ans :Guido van Rossum"
   ]
  },
  {
   "cell_type": "markdown",
   "id": "bd9abaad-345b-4087-93a2-97df95c570e7",
   "metadata": {},
   "source": [
    "2.Which type of Programming does Python support? "
   ]
  },
  {
   "cell_type": "markdown",
   "id": "e56b1c55-5f26-4945-8931-2167ec961b0e",
   "metadata": {},
   "source": [
    "Ans :object-oriented, structured, and functional programming."
   ]
  },
  {
   "cell_type": "markdown",
   "id": "ee1d06fb-02bc-40d1-ae62-58cd345231e4",
   "metadata": {},
   "source": [
    "3.Is Python case sensitive when dealing with identifiers? "
   ]
  },
  {
   "cell_type": "markdown",
   "id": "fb96654a-7b8e-4f0e-8961-2bb23ea40f85",
   "metadata": {},
   "source": [
    "Ans :Python is a case-sensitive language"
   ]
  },
  {
   "cell_type": "markdown",
   "id": "fcf33425-da1a-466a-b53a-df43b7481d7a",
   "metadata": {},
   "source": [
    "4.What is the correct extension of the Python file?"
   ]
  },
  {
   "cell_type": "markdown",
   "id": "b87e7188-4b44-4cfa-8a5f-7f256763aaa7",
   "metadata": {},
   "source": [
    "Ans:. py,"
   ]
  },
  {
   "cell_type": "markdown",
   "id": "858007d7-3ccb-4a8f-9111-7665b11ddf66",
   "metadata": {},
   "source": [
    "5.Is Python code compiled or interpreted? "
   ]
  },
  {
   "cell_type": "markdown",
   "id": "8b255186-3535-4539-85e8-29b562a8e2af",
   "metadata": {},
   "source": [
    "Ans :Python is both compiled as well as an interpreted language"
   ]
  },
  {
   "cell_type": "markdown",
   "id": "7e94e777-33c3-4544-a104-a62bdfc3670c",
   "metadata": {},
   "source": [
    "6.Name a few blocks of code used to define in Python language?"
   ]
  },
  {
   "cell_type": "markdown",
   "id": "be3da497-eacc-4bad-ad85-e61179de6be7",
   "metadata": {},
   "source": [
    "Ans:a module, a function body, and a class definition."
   ]
  },
  {
   "cell_type": "markdown",
   "id": "8f852e76-831e-48d8-82e9-7739b786386c",
   "metadata": {},
   "source": [
    "7.State a character used to give single-line comments in Python?"
   ]
  },
  {
   "cell_type": "markdown",
   "id": "a37799c6-1e84-408f-a295-ecc709722579",
   "metadata": {},
   "source": [
    "Ans :adding a single # character before any statement or line of code."
   ]
  },
  {
   "cell_type": "markdown",
   "id": "6f49b577-c647-4e76-a5ce-e8c0ebc15785",
   "metadata": {},
   "source": [
    "8.Mention functions which can help us to find the version of python that we are currently working on?"
   ]
  },
  {
   "cell_type": "markdown",
   "id": "7798cad0-3c4c-4e03-a363-d7b94dece12e",
   "metadata": {},
   "source": [
    "Ans :from platform import python_version\n",
    "     python_version()"
   ]
  },
  {
   "cell_type": "markdown",
   "id": "29d09f5f-ef3c-476c-bb72-68591d99d054",
   "metadata": {},
   "source": [
    "9.Python supports the creation of anonymous functions at runtime, using a construct called "
   ]
  },
  {
   "cell_type": "markdown",
   "id": "7dd4523b-01ef-4bb7-b5fd-97710bc6d33d",
   "metadata": {},
   "source": [
    "Ans :lambda"
   ]
  },
  {
   "cell_type": "markdown",
   "id": "f484b3a2-6619-4059-b730-8cbdd47083ec",
   "metadata": {},
   "source": [
    "10.What does pip stand for python? "
   ]
  },
  {
   "cell_type": "markdown",
   "id": "ac3bb4f3-9682-45d5-873b-87e7477558bd",
   "metadata": {},
   "source": [
    "Ans :pip is a package manager for python. Which is also called Preferred Installer Program."
   ]
  },
  {
   "cell_type": "markdown",
   "id": "c73dea1f-6594-4f37-97fc-27adc1df9bcb",
   "metadata": {},
   "source": [
    "11.Mention a few built-in functions in python? "
   ]
  },
  {
   "cell_type": "markdown",
   "id": "6e110eec-0c82-46dd-806d-e60d5cbf3b00",
   "metadata": {},
   "source": [
    "Ans :print( ) function.\n",
    "     type( ) function.\n",
    "     input( ) function.\n",
    "     abs( ) function.\n",
    "     pow( ) function.\n",
    "     dir( ) function.\n",
    "     sorted( ) function.\n",
    "     max( ) function."
   ]
  },
  {
   "cell_type": "markdown",
   "id": "8226ae33-369e-4894-a2db-c63deb25d798",
   "metadata": {},
   "source": [
    "12.What is the maximum possible length of an identifier in Python? "
   ]
  },
  {
   "cell_type": "markdown",
   "id": "39d7eb6e-fd60-4da9-a4cd-071051728cdb",
   "metadata": {},
   "source": [
    "Ans :79 characters"
   ]
  },
  {
   "cell_type": "markdown",
   "id": "73118b03-1800-4fc2-8397-036e08f074cf",
   "metadata": {},
   "source": [
    "13.What are the benefits of using Python? "
   ]
  },
  {
   "cell_type": "markdown",
   "id": "8798395c-5a8f-4adb-8f34-aafd3d417a7b",
   "metadata": {},
   "source": [
    "Ans : simple, clean, and fast to write"
   ]
  },
  {
   "cell_type": "markdown",
   "id": "98c59968-0358-4041-98b5-f376dc3a48ab",
   "metadata": {},
   "source": [
    "14.How is memory managed in Python?"
   ]
  },
  {
   "cell_type": "markdown",
   "id": "25f6fc49-1d36-457e-9a65-25be3305f541",
   "metadata": {},
   "source": [
    "Ans :Memory management in Python involves a private heap containing all Python objects and data structures"
   ]
  },
  {
   "cell_type": "markdown",
   "id": "3e1c48db-3aa6-4e10-9b56-65d0f0e8f767",
   "metadata": {},
   "source": [
    "15.How to install Python on Windows and set path variables?"
   ]
  },
  {
   "cell_type": "markdown",
   "id": "82d21c32-f4c9-4372-9927-00285f4801b5",
   "metadata": {},
   "source": [
    "Ans :Path C:\\Users\\Ron\\AppData\\Local\\Programs\\Python\\Python39;C:\\Users\\…\n",
    "     following steps:\n",
    "     Type “Python” in the Windows Search Bar.\n",
    "     Right-click on the Python App, and then select “Open file location“\n",
    "     Right-click again on the Python shortcut, and then select “Open file location“"
   ]
  },
  {
   "cell_type": "markdown",
   "id": "a3073f98-8505-4178-8f8c-95d8050b3d60",
   "metadata": {},
   "source": [
    "16.Is indentation required in python? "
   ]
  },
  {
   "cell_type": "markdown",
   "id": "9cda4599-e82f-4c8e-9169-7ea1a287a3c8",
   "metadata": {},
   "source": [
    "Ans :Indentation is mandatory in python to define the blocks of statements"
   ]
  }
 ],
 "metadata": {
  "kernelspec": {
   "display_name": "Python 3 (ipykernel)",
   "language": "python",
   "name": "python3"
  },
  "language_info": {
   "codemirror_mode": {
    "name": "ipython",
    "version": 3
   },
   "file_extension": ".py",
   "mimetype": "text/x-python",
   "name": "python",
   "nbconvert_exporter": "python",
   "pygments_lexer": "ipython3",
   "version": "3.10.8"
  }
 },
 "nbformat": 4,
 "nbformat_minor": 5
}
